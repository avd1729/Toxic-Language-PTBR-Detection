{
 "cells": [
  {
   "cell_type": "code",
   "execution_count": 1,
   "id": "7b587828",
   "metadata": {
    "execution": {
     "iopub.execute_input": "2024-04-05T10:52:24.607772Z",
     "iopub.status.busy": "2024-04-05T10:52:24.607083Z",
     "iopub.status.idle": "2024-04-05T10:52:24.619337Z",
     "shell.execute_reply": "2024-04-05T10:52:24.618400Z"
    },
    "papermill": {
     "duration": 0.024731,
     "end_time": "2024-04-05T10:52:24.621991",
     "exception": false,
     "start_time": "2024-04-05T10:52:24.597260",
     "status": "completed"
    },
    "tags": []
   },
   "outputs": [],
   "source": [
    "import warnings\n",
    "\n",
    "warnings.filterwarnings(\"ignore\")"
   ]
  },
  {
   "cell_type": "code",
   "execution_count": 2,
   "id": "558c0814",
   "metadata": {
    "execution": {
     "iopub.execute_input": "2024-04-05T10:52:24.639294Z",
     "iopub.status.busy": "2024-04-05T10:52:24.638648Z",
     "iopub.status.idle": "2024-04-05T10:52:25.745748Z",
     "shell.execute_reply": "2024-04-05T10:52:25.744519Z"
    },
    "papermill": {
     "duration": 1.119476,
     "end_time": "2024-04-05T10:52:25.748957",
     "exception": false,
     "start_time": "2024-04-05T10:52:24.629481",
     "status": "completed"
    },
    "tags": []
   },
   "outputs": [],
   "source": [
    "import numpy as np\n",
    "import pandas as pd"
   ]
  },
  {
   "cell_type": "code",
   "execution_count": 3,
   "id": "d8658680",
   "metadata": {
    "execution": {
     "iopub.execute_input": "2024-04-05T10:52:25.766588Z",
     "iopub.status.busy": "2024-04-05T10:52:25.766015Z",
     "iopub.status.idle": "2024-04-05T10:52:25.854974Z",
     "shell.execute_reply": "2024-04-05T10:52:25.853829Z"
    },
    "papermill": {
     "duration": 0.100913,
     "end_time": "2024-04-05T10:52:25.857759",
     "exception": false,
     "start_time": "2024-04-05T10:52:25.756846",
     "status": "completed"
    },
    "tags": []
   },
   "outputs": [],
   "source": [
    "train_data = pd.read_csv(\"/kaggle/input/ml-olympiad-toxic-language-ptbr-detection/train (2).csv\")"
   ]
  },
  {
   "cell_type": "code",
   "execution_count": 4,
   "id": "c587c2ac",
   "metadata": {
    "execution": {
     "iopub.execute_input": "2024-04-05T10:52:25.874117Z",
     "iopub.status.busy": "2024-04-05T10:52:25.873705Z",
     "iopub.status.idle": "2024-04-05T10:52:25.905179Z",
     "shell.execute_reply": "2024-04-05T10:52:25.903509Z"
    },
    "papermill": {
     "duration": 0.042679,
     "end_time": "2024-04-05T10:52:25.907677",
     "exception": false,
     "start_time": "2024-04-05T10:52:25.864998",
     "status": "completed"
    },
    "tags": []
   },
   "outputs": [
    {
     "name": "stdout",
     "output_type": "stream",
     "text": [
      "<class 'pandas.core.frame.DataFrame'>\n",
      "RangeIndex: 16800 entries, 0 to 16799\n",
      "Data columns (total 2 columns):\n",
      " #   Column  Non-Null Count  Dtype \n",
      "---  ------  --------------  ----- \n",
      " 0   text    16800 non-null  object\n",
      " 1   label   16800 non-null  int64 \n",
      "dtypes: int64(1), object(1)\n",
      "memory usage: 262.6+ KB\n"
     ]
    }
   ],
   "source": [
    "train_data.info()"
   ]
  },
  {
   "cell_type": "code",
   "execution_count": 5,
   "id": "ae738d49",
   "metadata": {
    "execution": {
     "iopub.execute_input": "2024-04-05T10:52:25.924224Z",
     "iopub.status.busy": "2024-04-05T10:52:25.923844Z",
     "iopub.status.idle": "2024-04-05T10:52:25.939049Z",
     "shell.execute_reply": "2024-04-05T10:52:25.938007Z"
    },
    "papermill": {
     "duration": 0.026203,
     "end_time": "2024-04-05T10:52:25.941270",
     "exception": false,
     "start_time": "2024-04-05T10:52:25.915067",
     "status": "completed"
    },
    "tags": []
   },
   "outputs": [
    {
     "data": {
      "text/html": [
       "<div>\n",
       "<style scoped>\n",
       "    .dataframe tbody tr th:only-of-type {\n",
       "        vertical-align: middle;\n",
       "    }\n",
       "\n",
       "    .dataframe tbody tr th {\n",
       "        vertical-align: top;\n",
       "    }\n",
       "\n",
       "    .dataframe thead th {\n",
       "        text-align: right;\n",
       "    }\n",
       "</style>\n",
       "<table border=\"1\" class=\"dataframe\">\n",
       "  <thead>\n",
       "    <tr style=\"text-align: right;\">\n",
       "      <th></th>\n",
       "      <th>text</th>\n",
       "      <th>label</th>\n",
       "    </tr>\n",
       "  </thead>\n",
       "  <tbody>\n",
       "    <tr>\n",
       "      <th>0</th>\n",
       "      <td>rt @user olha quem chegouuuuu, nossos queridin...</td>\n",
       "      <td>0</td>\n",
       "    </tr>\n",
       "    <tr>\n",
       "      <th>1</th>\n",
       "      <td>veio umas teorias muito loucas na minha cabeça...</td>\n",
       "      <td>1</td>\n",
       "    </tr>\n",
       "    <tr>\n",
       "      <th>2</th>\n",
       "      <td>@user @user 😂😂😂😂mais nao tinha falado ontem qu...</td>\n",
       "      <td>0</td>\n",
       "    </tr>\n",
       "    <tr>\n",
       "      <th>3</th>\n",
       "      <td>rt @user quer ser filha da puta logo comigo qu...</td>\n",
       "      <td>1</td>\n",
       "    </tr>\n",
       "    <tr>\n",
       "      <th>4</th>\n",
       "      <td>vai besta 😂😂😂😂 casquei com a ultima foto</td>\n",
       "      <td>1</td>\n",
       "    </tr>\n",
       "  </tbody>\n",
       "</table>\n",
       "</div>"
      ],
      "text/plain": [
       "                                                text  label\n",
       "0  rt @user olha quem chegouuuuu, nossos queridin...      0\n",
       "1  veio umas teorias muito loucas na minha cabeça...      1\n",
       "2  @user @user 😂😂😂😂mais nao tinha falado ontem qu...      0\n",
       "3  rt @user quer ser filha da puta logo comigo qu...      1\n",
       "4           vai besta 😂😂😂😂 casquei com a ultima foto      1"
      ]
     },
     "execution_count": 5,
     "metadata": {},
     "output_type": "execute_result"
    }
   ],
   "source": [
    "train_data.head()"
   ]
  },
  {
   "cell_type": "code",
   "execution_count": 6,
   "id": "6c7498f7",
   "metadata": {
    "execution": {
     "iopub.execute_input": "2024-04-05T10:52:25.958809Z",
     "iopub.status.busy": "2024-04-05T10:52:25.957999Z",
     "iopub.status.idle": "2024-04-05T10:52:28.635471Z",
     "shell.execute_reply": "2024-04-05T10:52:28.633878Z"
    },
    "papermill": {
     "duration": 2.689549,
     "end_time": "2024-04-05T10:52:28.638361",
     "exception": false,
     "start_time": "2024-04-05T10:52:25.948812",
     "status": "completed"
    },
    "tags": []
   },
   "outputs": [],
   "source": [
    "import re\n",
    "import nltk\n",
    "from nltk.corpus import stopwords\n",
    "from nltk.tokenize import word_tokenize\n",
    "from nltk.stem import SnowballStemmer"
   ]
  },
  {
   "cell_type": "code",
   "execution_count": 7,
   "id": "0f57c59e",
   "metadata": {
    "execution": {
     "iopub.execute_input": "2024-04-05T10:52:28.655784Z",
     "iopub.status.busy": "2024-04-05T10:52:28.655332Z",
     "iopub.status.idle": "2024-04-05T10:52:44.727621Z",
     "shell.execute_reply": "2024-04-05T10:52:44.726467Z"
    },
    "papermill": {
     "duration": 16.084249,
     "end_time": "2024-04-05T10:52:44.730306",
     "exception": false,
     "start_time": "2024-04-05T10:52:28.646057",
     "status": "completed"
    },
    "tags": []
   },
   "outputs": [],
   "source": [
    "def clean_text(text):\n",
    "    # Remove non-alphanumeric characters including emojis\n",
    "    text = re.sub('[^A-Za-zÀ-ÖØ-öø-ÿ]', ' ', text)\n",
    "    # Convert to lowercase\n",
    "    text = text.lower()\n",
    "    # Tokenize the text\n",
    "    tokens = word_tokenize(text, language='portuguese')\n",
    "    # Remove stopwords\n",
    "    stop_words = set(stopwords.words('portuguese'))\n",
    "    tokens = [word for word in tokens if word not in stop_words]\n",
    "    # Stemming\n",
    "    stemmer = SnowballStemmer('portuguese')\n",
    "    tokens = [stemmer.stem(word) for word in tokens]\n",
    "    return ' '.join(tokens)\n",
    "\n",
    "train_data['cleaned_text'] = train_data['text'].apply(clean_text)"
   ]
  },
  {
   "cell_type": "code",
   "execution_count": 8,
   "id": "f1cbccb1",
   "metadata": {
    "execution": {
     "iopub.execute_input": "2024-04-05T10:52:44.747981Z",
     "iopub.status.busy": "2024-04-05T10:52:44.747592Z",
     "iopub.status.idle": "2024-04-05T10:52:44.759480Z",
     "shell.execute_reply": "2024-04-05T10:52:44.757968Z"
    },
    "papermill": {
     "duration": 0.023619,
     "end_time": "2024-04-05T10:52:44.762084",
     "exception": false,
     "start_time": "2024-04-05T10:52:44.738465",
     "status": "completed"
    },
    "tags": []
   },
   "outputs": [
    {
     "data": {
      "text/html": [
       "<div>\n",
       "<style scoped>\n",
       "    .dataframe tbody tr th:only-of-type {\n",
       "        vertical-align: middle;\n",
       "    }\n",
       "\n",
       "    .dataframe tbody tr th {\n",
       "        vertical-align: top;\n",
       "    }\n",
       "\n",
       "    .dataframe thead th {\n",
       "        text-align: right;\n",
       "    }\n",
       "</style>\n",
       "<table border=\"1\" class=\"dataframe\">\n",
       "  <thead>\n",
       "    <tr style=\"text-align: right;\">\n",
       "      <th></th>\n",
       "      <th>text</th>\n",
       "      <th>label</th>\n",
       "      <th>cleaned_text</th>\n",
       "    </tr>\n",
       "  </thead>\n",
       "  <tbody>\n",
       "    <tr>\n",
       "      <th>0</th>\n",
       "      <td>rt @user olha quem chegouuuuu, nossos queridin...</td>\n",
       "      <td>0</td>\n",
       "      <td>rt user olha chegouuuuu queridinh vem direçã f...</td>\n",
       "    </tr>\n",
       "    <tr>\n",
       "      <th>1</th>\n",
       "      <td>veio umas teorias muito loucas na minha cabeça...</td>\n",
       "      <td>1</td>\n",
       "      <td>vei umas teor louc cabec agor pqp to assust</td>\n",
       "    </tr>\n",
       "    <tr>\n",
       "      <th>2</th>\n",
       "      <td>@user @user 😂😂😂😂mais nao tinha falado ontem qu...</td>\n",
       "      <td>0</td>\n",
       "      <td>user user nao fal ontem ia patrocin nad pud vi...</td>\n",
       "    </tr>\n",
       "    <tr>\n",
       "      <th>3</th>\n",
       "      <td>rt @user quer ser filha da puta logo comigo qu...</td>\n",
       "      <td>1</td>\n",
       "      <td>rt user quer filh put log comig x pior kkkkkkk...</td>\n",
       "    </tr>\n",
       "    <tr>\n",
       "      <th>4</th>\n",
       "      <td>vai besta 😂😂😂😂 casquei com a ultima foto</td>\n",
       "      <td>1</td>\n",
       "      <td>vai best casqu ultim fot</td>\n",
       "    </tr>\n",
       "  </tbody>\n",
       "</table>\n",
       "</div>"
      ],
      "text/plain": [
       "                                                text  label  \\\n",
       "0  rt @user olha quem chegouuuuu, nossos queridin...      0   \n",
       "1  veio umas teorias muito loucas na minha cabeça...      1   \n",
       "2  @user @user 😂😂😂😂mais nao tinha falado ontem qu...      0   \n",
       "3  rt @user quer ser filha da puta logo comigo qu...      1   \n",
       "4           vai besta 😂😂😂😂 casquei com a ultima foto      1   \n",
       "\n",
       "                                        cleaned_text  \n",
       "0  rt user olha chegouuuuu queridinh vem direçã f...  \n",
       "1        vei umas teor louc cabec agor pqp to assust  \n",
       "2  user user nao fal ontem ia patrocin nad pud vi...  \n",
       "3  rt user quer filh put log comig x pior kkkkkkk...  \n",
       "4                           vai best casqu ultim fot  "
      ]
     },
     "execution_count": 8,
     "metadata": {},
     "output_type": "execute_result"
    }
   ],
   "source": [
    "train_data.head()"
   ]
  },
  {
   "cell_type": "code",
   "execution_count": 9,
   "id": "9dad2091",
   "metadata": {
    "execution": {
     "iopub.execute_input": "2024-04-05T10:52:44.780296Z",
     "iopub.status.busy": "2024-04-05T10:52:44.779862Z",
     "iopub.status.idle": "2024-04-05T10:52:44.791785Z",
     "shell.execute_reply": "2024-04-05T10:52:44.790526Z"
    },
    "papermill": {
     "duration": 0.024376,
     "end_time": "2024-04-05T10:52:44.794391",
     "exception": false,
     "start_time": "2024-04-05T10:52:44.770015",
     "status": "completed"
    },
    "tags": []
   },
   "outputs": [],
   "source": [
    "from sklearn.model_selection import train_test_split\n",
    "\n",
    "X_train, X_test, y_train, y_test = train_test_split(train_data['cleaned_text'], train_data['label'], test_size=0.2, random_state=42)"
   ]
  },
  {
   "cell_type": "code",
   "execution_count": 10,
   "id": "db924785",
   "metadata": {
    "execution": {
     "iopub.execute_input": "2024-04-05T10:52:44.812107Z",
     "iopub.status.busy": "2024-04-05T10:52:44.811706Z",
     "iopub.status.idle": "2024-04-05T10:52:45.195196Z",
     "shell.execute_reply": "2024-04-05T10:52:45.193703Z"
    },
    "papermill": {
     "duration": 0.395937,
     "end_time": "2024-04-05T10:52:45.198290",
     "exception": false,
     "start_time": "2024-04-05T10:52:44.802353",
     "status": "completed"
    },
    "tags": []
   },
   "outputs": [],
   "source": [
    "from sklearn.feature_extraction.text import TfidfVectorizer\n",
    "\n",
    "tfidf_vectorizer = TfidfVectorizer(max_features=500)\n",
    "X_train_tfidf = tfidf_vectorizer.fit_transform(X_train)\n",
    "X_test_tfidf = tfidf_vectorizer.transform(X_test)"
   ]
  },
  {
   "cell_type": "code",
   "execution_count": 11,
   "id": "b84c5e50",
   "metadata": {
    "execution": {
     "iopub.execute_input": "2024-04-05T10:52:45.216320Z",
     "iopub.status.busy": "2024-04-05T10:52:45.215844Z",
     "iopub.status.idle": "2024-04-05T10:52:45.645816Z",
     "shell.execute_reply": "2024-04-05T10:52:45.644684Z"
    },
    "papermill": {
     "duration": 0.442488,
     "end_time": "2024-04-05T10:52:45.648907",
     "exception": false,
     "start_time": "2024-04-05T10:52:45.206419",
     "status": "completed"
    },
    "tags": []
   },
   "outputs": [],
   "source": [
    "from sklearn.linear_model import LogisticRegression\n",
    "from sklearn.ensemble import RandomForestClassifier\n",
    "from sklearn.svm import SVC\n",
    "from xgboost import XGBClassifier\n",
    "from sklearn.metrics import accuracy_score, classification_report"
   ]
  },
  {
   "cell_type": "code",
   "execution_count": 12,
   "id": "caac60eb",
   "metadata": {
    "execution": {
     "iopub.execute_input": "2024-04-05T10:52:45.667217Z",
     "iopub.status.busy": "2024-04-05T10:52:45.666769Z",
     "iopub.status.idle": "2024-04-05T10:53:22.183664Z",
     "shell.execute_reply": "2024-04-05T10:53:22.182374Z"
    },
    "papermill": {
     "duration": 36.529187,
     "end_time": "2024-04-05T10:53:22.186174",
     "exception": false,
     "start_time": "2024-04-05T10:52:45.656987",
     "status": "completed"
    },
    "tags": []
   },
   "outputs": [
    {
     "name": "stdout",
     "output_type": "stream",
     "text": [
      "Training Logistic Regression\n",
      "Accuracy: 0.7386904761904762\n",
      "Classification Report:\n",
      "              precision    recall  f1-score   support\n",
      "\n",
      "           0       0.73      0.84      0.78      1881\n",
      "           1       0.75      0.61      0.67      1479\n",
      "\n",
      "    accuracy                           0.74      3360\n",
      "   macro avg       0.74      0.73      0.73      3360\n",
      "weighted avg       0.74      0.74      0.73      3360\n",
      "\n",
      "--------------------------------------------------\n",
      "Training Random Forest\n",
      "Accuracy: 0.7366071428571429\n",
      "Classification Report:\n",
      "              precision    recall  f1-score   support\n",
      "\n",
      "           0       0.75      0.79      0.77      1881\n",
      "           1       0.71      0.67      0.69      1479\n",
      "\n",
      "    accuracy                           0.74      3360\n",
      "   macro avg       0.73      0.73      0.73      3360\n",
      "weighted avg       0.74      0.74      0.74      3360\n",
      "\n",
      "--------------------------------------------------\n",
      "Training Support Vector Machine\n",
      "Accuracy: 0.74375\n",
      "Classification Report:\n",
      "              precision    recall  f1-score   support\n",
      "\n",
      "           0       0.74      0.83      0.78      1881\n",
      "           1       0.74      0.64      0.69      1479\n",
      "\n",
      "    accuracy                           0.74      3360\n",
      "   macro avg       0.74      0.73      0.74      3360\n",
      "weighted avg       0.74      0.74      0.74      3360\n",
      "\n",
      "--------------------------------------------------\n",
      "Training XGBoost\n",
      "Accuracy: 0.7455357142857143\n",
      "Classification Report:\n",
      "              precision    recall  f1-score   support\n",
      "\n",
      "           0       0.75      0.81      0.78      1881\n",
      "           1       0.73      0.66      0.70      1479\n",
      "\n",
      "    accuracy                           0.75      3360\n",
      "   macro avg       0.74      0.74      0.74      3360\n",
      "weighted avg       0.74      0.75      0.74      3360\n",
      "\n",
      "--------------------------------------------------\n"
     ]
    }
   ],
   "source": [
    "def train_and_evaluate(X_train, X_test, y_train, y_test):\n",
    "    algorithms = {\n",
    "        \"Logistic Regression\": LogisticRegression(),\n",
    "        \"Random Forest\": RandomForestClassifier(),\n",
    "        \"Support Vector Machine\": SVC(),\n",
    "        \"XGBoost\": XGBClassifier()\n",
    "    }\n",
    "\n",
    "    for name, model in algorithms.items():\n",
    "        print(\"Training\", name)\n",
    "        model.fit(X_train, y_train)\n",
    "        predictions = model.predict(X_test)\n",
    "        accuracy = accuracy_score(y_test, predictions)\n",
    "        report = classification_report(y_test, predictions)\n",
    "        print(\"Accuracy:\", accuracy)\n",
    "        print(\"Classification Report:\")\n",
    "        print(report)\n",
    "        print(\"-\" * 50)\n",
    "\n",
    "train_and_evaluate(X_train_tfidf, X_test_tfidf, y_train, y_test)"
   ]
  },
  {
   "cell_type": "code",
   "execution_count": 13,
   "id": "da4e19bc",
   "metadata": {
    "execution": {
     "iopub.execute_input": "2024-04-05T10:53:22.205782Z",
     "iopub.status.busy": "2024-04-05T10:53:22.203889Z",
     "iopub.status.idle": "2024-04-05T10:53:22.237237Z",
     "shell.execute_reply": "2024-04-05T10:53:22.235839Z"
    },
    "papermill": {
     "duration": 0.045693,
     "end_time": "2024-04-05T10:53:22.240005",
     "exception": false,
     "start_time": "2024-04-05T10:53:22.194312",
     "status": "completed"
    },
    "tags": []
   },
   "outputs": [],
   "source": [
    "test_data = pd.read_csv(\"/kaggle/input/ml-olympiad-toxic-language-ptbr-detection/test (4).csv\")"
   ]
  },
  {
   "cell_type": "code",
   "execution_count": 14,
   "id": "84d564bd",
   "metadata": {
    "execution": {
     "iopub.execute_input": "2024-04-05T10:53:22.258963Z",
     "iopub.status.busy": "2024-04-05T10:53:22.258473Z",
     "iopub.status.idle": "2024-04-05T10:53:22.269140Z",
     "shell.execute_reply": "2024-04-05T10:53:22.268002Z"
    },
    "papermill": {
     "duration": 0.023493,
     "end_time": "2024-04-05T10:53:22.271998",
     "exception": false,
     "start_time": "2024-04-05T10:53:22.248505",
     "status": "completed"
    },
    "tags": []
   },
   "outputs": [
    {
     "data": {
      "text/html": [
       "<div>\n",
       "<style scoped>\n",
       "    .dataframe tbody tr th:only-of-type {\n",
       "        vertical-align: middle;\n",
       "    }\n",
       "\n",
       "    .dataframe tbody tr th {\n",
       "        vertical-align: top;\n",
       "    }\n",
       "\n",
       "    .dataframe thead th {\n",
       "        text-align: right;\n",
       "    }\n",
       "</style>\n",
       "<table border=\"1\" class=\"dataframe\">\n",
       "  <thead>\n",
       "    <tr style=\"text-align: right;\">\n",
       "      <th></th>\n",
       "      <th>id</th>\n",
       "      <th>text</th>\n",
       "    </tr>\n",
       "  </thead>\n",
       "  <tbody>\n",
       "    <tr>\n",
       "      <th>0</th>\n",
       "      <td>0</td>\n",
       "      <td>@user nossa mano te odeio na moral kkkkkkkkkkk...</td>\n",
       "    </tr>\n",
       "    <tr>\n",
       "      <th>1</th>\n",
       "      <td>1</td>\n",
       "      <td>@user @user a edição ficou muito boa! kkkkkkkk...</td>\n",
       "    </tr>\n",
       "    <tr>\n",
       "      <th>2</th>\n",
       "      <td>2</td>\n",
       "      <td>@user largada vá, visto que a vaca anda à solta 😂</td>\n",
       "    </tr>\n",
       "    <tr>\n",
       "      <th>3</th>\n",
       "      <td>3</td>\n",
       "      <td>poxa, eu queria ganhar um boné. alguém me da u...</td>\n",
       "    </tr>\n",
       "    <tr>\n",
       "      <th>4</th>\n",
       "      <td>4</td>\n",
       "      <td>@user amiga, tudo bem, não precisa se desculpa...</td>\n",
       "    </tr>\n",
       "  </tbody>\n",
       "</table>\n",
       "</div>"
      ],
      "text/plain": [
       "   id                                               text\n",
       "0   0  @user nossa mano te odeio na moral kkkkkkkkkkk...\n",
       "1   1  @user @user a edição ficou muito boa! kkkkkkkk...\n",
       "2   2  @user largada vá, visto que a vaca anda à solta 😂\n",
       "3   3  poxa, eu queria ganhar um boné. alguém me da u...\n",
       "4   4  @user amiga, tudo bem, não precisa se desculpa..."
      ]
     },
     "execution_count": 14,
     "metadata": {},
     "output_type": "execute_result"
    }
   ],
   "source": [
    "test_data.head()"
   ]
  },
  {
   "cell_type": "code",
   "execution_count": 15,
   "id": "d2adc8b9",
   "metadata": {
    "execution": {
     "iopub.execute_input": "2024-04-05T10:53:22.292255Z",
     "iopub.status.busy": "2024-04-05T10:53:22.291863Z",
     "iopub.status.idle": "2024-04-05T10:53:26.255680Z",
     "shell.execute_reply": "2024-04-05T10:53:26.254517Z"
    },
    "papermill": {
     "duration": 3.976992,
     "end_time": "2024-04-05T10:53:26.258163",
     "exception": false,
     "start_time": "2024-04-05T10:53:22.281171",
     "status": "completed"
    },
    "tags": []
   },
   "outputs": [],
   "source": [
    "def clean_text(text):\n",
    "   \n",
    "    text = re.sub('[^A-Za-zÀ-ÖØ-öø-ÿ]', ' ', text)\n",
    "    text = text.lower()\n",
    "    tokens = word_tokenize(text, language='portuguese')\n",
    "    stop_words = set(stopwords.words('portuguese'))\n",
    "    tokens = [word for word in tokens if word not in stop_words]\n",
    "    stemmer = SnowballStemmer('portuguese')\n",
    "    tokens = [stemmer.stem(word) for word in tokens]\n",
    "    return ' '.join(tokens)\n",
    "\n",
    "test_data['cleaned_text'] = test_data['text'].apply(clean_text)"
   ]
  },
  {
   "cell_type": "code",
   "execution_count": 16,
   "id": "255b10b1",
   "metadata": {
    "execution": {
     "iopub.execute_input": "2024-04-05T10:53:26.277333Z",
     "iopub.status.busy": "2024-04-05T10:53:26.276941Z",
     "iopub.status.idle": "2024-04-05T10:53:26.287844Z",
     "shell.execute_reply": "2024-04-05T10:53:26.286728Z"
    },
    "papermill": {
     "duration": 0.023445,
     "end_time": "2024-04-05T10:53:26.290275",
     "exception": false,
     "start_time": "2024-04-05T10:53:26.266830",
     "status": "completed"
    },
    "tags": []
   },
   "outputs": [
    {
     "data": {
      "text/html": [
       "<div>\n",
       "<style scoped>\n",
       "    .dataframe tbody tr th:only-of-type {\n",
       "        vertical-align: middle;\n",
       "    }\n",
       "\n",
       "    .dataframe tbody tr th {\n",
       "        vertical-align: top;\n",
       "    }\n",
       "\n",
       "    .dataframe thead th {\n",
       "        text-align: right;\n",
       "    }\n",
       "</style>\n",
       "<table border=\"1\" class=\"dataframe\">\n",
       "  <thead>\n",
       "    <tr style=\"text-align: right;\">\n",
       "      <th></th>\n",
       "      <th>id</th>\n",
       "      <th>text</th>\n",
       "      <th>cleaned_text</th>\n",
       "    </tr>\n",
       "  </thead>\n",
       "  <tbody>\n",
       "    <tr>\n",
       "      <th>0</th>\n",
       "      <td>0</td>\n",
       "      <td>@user nossa mano te odeio na moral kkkkkkkkkkk...</td>\n",
       "      <td>user man odei moral kkkkkkkkkkkkkkkkkkk</td>\n",
       "    </tr>\n",
       "    <tr>\n",
       "      <th>1</th>\n",
       "      <td>1</td>\n",
       "      <td>@user @user a edição ficou muito boa! kkkkkkkk...</td>\n",
       "      <td>user user ediçã fic boa kkkkkkkkkkk falt luk tim</td>\n",
       "    </tr>\n",
       "    <tr>\n",
       "      <th>2</th>\n",
       "      <td>2</td>\n",
       "      <td>@user largada vá, visto que a vaca anda à solta 😂</td>\n",
       "      <td>user larg vá vist vac anda solt</td>\n",
       "    </tr>\n",
       "    <tr>\n",
       "      <th>3</th>\n",
       "      <td>3</td>\n",
       "      <td>poxa, eu queria ganhar um boné. alguém me da u...</td>\n",
       "      <td>pox quer ganh bon alguém bon</td>\n",
       "    </tr>\n",
       "    <tr>\n",
       "      <th>4</th>\n",
       "      <td>4</td>\n",
       "      <td>@user amiga, tudo bem, não precisa se desculpa...</td>\n",
       "      <td>user amig tud bem precis desculp escrot q ente...</td>\n",
       "    </tr>\n",
       "  </tbody>\n",
       "</table>\n",
       "</div>"
      ],
      "text/plain": [
       "   id                                               text  \\\n",
       "0   0  @user nossa mano te odeio na moral kkkkkkkkkkk...   \n",
       "1   1  @user @user a edição ficou muito boa! kkkkkkkk...   \n",
       "2   2  @user largada vá, visto que a vaca anda à solta 😂   \n",
       "3   3  poxa, eu queria ganhar um boné. alguém me da u...   \n",
       "4   4  @user amiga, tudo bem, não precisa se desculpa...   \n",
       "\n",
       "                                        cleaned_text  \n",
       "0            user man odei moral kkkkkkkkkkkkkkkkkkk  \n",
       "1   user user ediçã fic boa kkkkkkkkkkk falt luk tim  \n",
       "2                    user larg vá vist vac anda solt  \n",
       "3                       pox quer ganh bon alguém bon  \n",
       "4  user amig tud bem precis desculp escrot q ente...  "
      ]
     },
     "execution_count": 16,
     "metadata": {},
     "output_type": "execute_result"
    }
   ],
   "source": [
    "test_data.head()"
   ]
  },
  {
   "cell_type": "code",
   "execution_count": 17,
   "id": "4bd8ca1d",
   "metadata": {
    "execution": {
     "iopub.execute_input": "2024-04-05T10:53:26.309587Z",
     "iopub.status.busy": "2024-04-05T10:53:26.309150Z",
     "iopub.status.idle": "2024-04-05T10:53:26.395014Z",
     "shell.execute_reply": "2024-04-05T10:53:26.394004Z"
    },
    "papermill": {
     "duration": 0.098817,
     "end_time": "2024-04-05T10:53:26.397869",
     "exception": false,
     "start_time": "2024-04-05T10:53:26.299052",
     "status": "completed"
    },
    "tags": []
   },
   "outputs": [],
   "source": [
    "test = tfidf_vectorizer.transform(test_data['cleaned_text'])"
   ]
  },
  {
   "cell_type": "code",
   "execution_count": 18,
   "id": "31c8f1b8",
   "metadata": {
    "execution": {
     "iopub.execute_input": "2024-04-05T10:53:26.418236Z",
     "iopub.status.busy": "2024-04-05T10:53:26.417827Z",
     "iopub.status.idle": "2024-04-05T10:53:28.864162Z",
     "shell.execute_reply": "2024-04-05T10:53:28.863143Z"
    },
    "papermill": {
     "duration": 2.458985,
     "end_time": "2024-04-05T10:53:28.866527",
     "exception": false,
     "start_time": "2024-04-05T10:53:26.407542",
     "status": "completed"
    },
    "tags": []
   },
   "outputs": [
    {
     "data": {
      "text/html": [
       "<style>#sk-container-id-1 {color: black;background-color: white;}#sk-container-id-1 pre{padding: 0;}#sk-container-id-1 div.sk-toggleable {background-color: white;}#sk-container-id-1 label.sk-toggleable__label {cursor: pointer;display: block;width: 100%;margin-bottom: 0;padding: 0.3em;box-sizing: border-box;text-align: center;}#sk-container-id-1 label.sk-toggleable__label-arrow:before {content: \"▸\";float: left;margin-right: 0.25em;color: #696969;}#sk-container-id-1 label.sk-toggleable__label-arrow:hover:before {color: black;}#sk-container-id-1 div.sk-estimator:hover label.sk-toggleable__label-arrow:before {color: black;}#sk-container-id-1 div.sk-toggleable__content {max-height: 0;max-width: 0;overflow: hidden;text-align: left;background-color: #f0f8ff;}#sk-container-id-1 div.sk-toggleable__content pre {margin: 0.2em;color: black;border-radius: 0.25em;background-color: #f0f8ff;}#sk-container-id-1 input.sk-toggleable__control:checked~div.sk-toggleable__content {max-height: 200px;max-width: 100%;overflow: auto;}#sk-container-id-1 input.sk-toggleable__control:checked~label.sk-toggleable__label-arrow:before {content: \"▾\";}#sk-container-id-1 div.sk-estimator input.sk-toggleable__control:checked~label.sk-toggleable__label {background-color: #d4ebff;}#sk-container-id-1 div.sk-label input.sk-toggleable__control:checked~label.sk-toggleable__label {background-color: #d4ebff;}#sk-container-id-1 input.sk-hidden--visually {border: 0;clip: rect(1px 1px 1px 1px);clip: rect(1px, 1px, 1px, 1px);height: 1px;margin: -1px;overflow: hidden;padding: 0;position: absolute;width: 1px;}#sk-container-id-1 div.sk-estimator {font-family: monospace;background-color: #f0f8ff;border: 1px dotted black;border-radius: 0.25em;box-sizing: border-box;margin-bottom: 0.5em;}#sk-container-id-1 div.sk-estimator:hover {background-color: #d4ebff;}#sk-container-id-1 div.sk-parallel-item::after {content: \"\";width: 100%;border-bottom: 1px solid gray;flex-grow: 1;}#sk-container-id-1 div.sk-label:hover label.sk-toggleable__label {background-color: #d4ebff;}#sk-container-id-1 div.sk-serial::before {content: \"\";position: absolute;border-left: 1px solid gray;box-sizing: border-box;top: 0;bottom: 0;left: 50%;z-index: 0;}#sk-container-id-1 div.sk-serial {display: flex;flex-direction: column;align-items: center;background-color: white;padding-right: 0.2em;padding-left: 0.2em;position: relative;}#sk-container-id-1 div.sk-item {position: relative;z-index: 1;}#sk-container-id-1 div.sk-parallel {display: flex;align-items: stretch;justify-content: center;background-color: white;position: relative;}#sk-container-id-1 div.sk-item::before, #sk-container-id-1 div.sk-parallel-item::before {content: \"\";position: absolute;border-left: 1px solid gray;box-sizing: border-box;top: 0;bottom: 0;left: 50%;z-index: -1;}#sk-container-id-1 div.sk-parallel-item {display: flex;flex-direction: column;z-index: 1;position: relative;background-color: white;}#sk-container-id-1 div.sk-parallel-item:first-child::after {align-self: flex-end;width: 50%;}#sk-container-id-1 div.sk-parallel-item:last-child::after {align-self: flex-start;width: 50%;}#sk-container-id-1 div.sk-parallel-item:only-child::after {width: 0;}#sk-container-id-1 div.sk-dashed-wrapped {border: 1px dashed gray;margin: 0 0.4em 0.5em 0.4em;box-sizing: border-box;padding-bottom: 0.4em;background-color: white;}#sk-container-id-1 div.sk-label label {font-family: monospace;font-weight: bold;display: inline-block;line-height: 1.2em;}#sk-container-id-1 div.sk-label-container {text-align: center;}#sk-container-id-1 div.sk-container {/* jupyter's `normalize.less` sets `[hidden] { display: none; }` but bootstrap.min.css set `[hidden] { display: none !important; }` so we also need the `!important` here to be able to override the default hidden behavior on the sphinx rendered scikit-learn.org. See: https://github.com/scikit-learn/scikit-learn/issues/21755 */display: inline-block !important;position: relative;}#sk-container-id-1 div.sk-text-repr-fallback {display: none;}</style><div id=\"sk-container-id-1\" class=\"sk-top-container\"><div class=\"sk-text-repr-fallback\"><pre>XGBClassifier(base_score=None, booster=None, callbacks=None,\n",
       "              colsample_bylevel=None, colsample_bynode=None,\n",
       "              colsample_bytree=None, device=None, early_stopping_rounds=None,\n",
       "              enable_categorical=False, eval_metric=None, feature_types=None,\n",
       "              gamma=None, grow_policy=None, importance_type=None,\n",
       "              interaction_constraints=None, learning_rate=None, max_bin=None,\n",
       "              max_cat_threshold=None, max_cat_to_onehot=None,\n",
       "              max_delta_step=None, max_depth=None, max_leaves=None,\n",
       "              min_child_weight=None, missing=nan, monotone_constraints=None,\n",
       "              multi_strategy=None, n_estimators=None, n_jobs=None,\n",
       "              num_parallel_tree=None, random_state=None, ...)</pre><b>In a Jupyter environment, please rerun this cell to show the HTML representation or trust the notebook. <br />On GitHub, the HTML representation is unable to render, please try loading this page with nbviewer.org.</b></div><div class=\"sk-container\" hidden><div class=\"sk-item\"><div class=\"sk-estimator sk-toggleable\"><input class=\"sk-toggleable__control sk-hidden--visually\" id=\"sk-estimator-id-1\" type=\"checkbox\" checked><label for=\"sk-estimator-id-1\" class=\"sk-toggleable__label sk-toggleable__label-arrow\">XGBClassifier</label><div class=\"sk-toggleable__content\"><pre>XGBClassifier(base_score=None, booster=None, callbacks=None,\n",
       "              colsample_bylevel=None, colsample_bynode=None,\n",
       "              colsample_bytree=None, device=None, early_stopping_rounds=None,\n",
       "              enable_categorical=False, eval_metric=None, feature_types=None,\n",
       "              gamma=None, grow_policy=None, importance_type=None,\n",
       "              interaction_constraints=None, learning_rate=None, max_bin=None,\n",
       "              max_cat_threshold=None, max_cat_to_onehot=None,\n",
       "              max_delta_step=None, max_depth=None, max_leaves=None,\n",
       "              min_child_weight=None, missing=nan, monotone_constraints=None,\n",
       "              multi_strategy=None, n_estimators=None, n_jobs=None,\n",
       "              num_parallel_tree=None, random_state=None, ...)</pre></div></div></div></div></div>"
      ],
      "text/plain": [
       "XGBClassifier(base_score=None, booster=None, callbacks=None,\n",
       "              colsample_bylevel=None, colsample_bynode=None,\n",
       "              colsample_bytree=None, device=None, early_stopping_rounds=None,\n",
       "              enable_categorical=False, eval_metric=None, feature_types=None,\n",
       "              gamma=None, grow_policy=None, importance_type=None,\n",
       "              interaction_constraints=None, learning_rate=None, max_bin=None,\n",
       "              max_cat_threshold=None, max_cat_to_onehot=None,\n",
       "              max_delta_step=None, max_depth=None, max_leaves=None,\n",
       "              min_child_weight=None, missing=nan, monotone_constraints=None,\n",
       "              multi_strategy=None, n_estimators=None, n_jobs=None,\n",
       "              num_parallel_tree=None, random_state=None, ...)"
      ]
     },
     "execution_count": 18,
     "metadata": {},
     "output_type": "execute_result"
    }
   ],
   "source": [
    "model = XGBClassifier()\n",
    "model.fit(X_train_tfidf, y_train)"
   ]
  },
  {
   "cell_type": "code",
   "execution_count": 19,
   "id": "d757aae1",
   "metadata": {
    "execution": {
     "iopub.execute_input": "2024-04-05T10:53:28.886750Z",
     "iopub.status.busy": "2024-04-05T10:53:28.886319Z",
     "iopub.status.idle": "2024-04-05T10:53:28.901233Z",
     "shell.execute_reply": "2024-04-05T10:53:28.900289Z"
    },
    "papermill": {
     "duration": 0.028365,
     "end_time": "2024-04-05T10:53:28.903910",
     "exception": false,
     "start_time": "2024-04-05T10:53:28.875545",
     "status": "completed"
    },
    "tags": []
   },
   "outputs": [],
   "source": [
    "test_predictions = model.predict(test)"
   ]
  },
  {
   "cell_type": "code",
   "execution_count": 20,
   "id": "81a08a0c",
   "metadata": {
    "execution": {
     "iopub.execute_input": "2024-04-05T10:53:28.925880Z",
     "iopub.status.busy": "2024-04-05T10:53:28.925409Z",
     "iopub.status.idle": "2024-04-05T10:53:28.940130Z",
     "shell.execute_reply": "2024-04-05T10:53:28.939021Z"
    },
    "papermill": {
     "duration": 0.028095,
     "end_time": "2024-04-05T10:53:28.942820",
     "exception": false,
     "start_time": "2024-04-05T10:53:28.914725",
     "status": "completed"
    },
    "tags": []
   },
   "outputs": [],
   "source": [
    "# Assuming 'id' column contains the unique identifiers for each sample in the test data\n",
    "test_ids = test_data['id']\n",
    "\n",
    "# Save predictions to a CSV file\n",
    "submission_df = pd.DataFrame({'id': test_ids, 'label': test_predictions})\n",
    "submission_df.to_csv('submission.csv', index=False)"
   ]
  }
 ],
 "metadata": {
  "kaggle": {
   "accelerator": "none",
   "dataSources": [
    {
     "databundleVersionId": 7798918,
     "sourceId": 71348,
     "sourceType": "competition"
    }
   ],
   "dockerImageVersionId": 30674,
   "isGpuEnabled": false,
   "isInternetEnabled": true,
   "language": "python",
   "sourceType": "notebook"
  },
  "kernelspec": {
   "display_name": "Python 3",
   "language": "python",
   "name": "python3"
  },
  "language_info": {
   "codemirror_mode": {
    "name": "ipython",
    "version": 3
   },
   "file_extension": ".py",
   "mimetype": "text/x-python",
   "name": "python",
   "nbconvert_exporter": "python",
   "pygments_lexer": "ipython3",
   "version": "3.10.13"
  },
  "papermill": {
   "default_parameters": {},
   "duration": 68.332093,
   "end_time": "2024-04-05T10:53:29.676718",
   "environment_variables": {},
   "exception": null,
   "input_path": "__notebook__.ipynb",
   "output_path": "__notebook__.ipynb",
   "parameters": {},
   "start_time": "2024-04-05T10:52:21.344625",
   "version": "2.5.0"
  }
 },
 "nbformat": 4,
 "nbformat_minor": 5
}

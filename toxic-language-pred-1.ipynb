{
 "cells": [
  {
   "cell_type": "code",
   "execution_count": 1,
   "id": "0431c8cf",
   "metadata": {
    "execution": {
     "iopub.execute_input": "2024-04-04T12:25:40.188253Z",
     "iopub.status.busy": "2024-04-04T12:25:40.187866Z",
     "iopub.status.idle": "2024-04-04T12:25:40.200396Z",
     "shell.execute_reply": "2024-04-04T12:25:40.199429Z"
    },
    "papermill": {
     "duration": 0.021752,
     "end_time": "2024-04-04T12:25:40.202736",
     "exception": false,
     "start_time": "2024-04-04T12:25:40.180984",
     "status": "completed"
    },
    "tags": []
   },
   "outputs": [],
   "source": [
    "import warnings\n",
    "\n",
    "warnings.filterwarnings(\"ignore\")"
   ]
  },
  {
   "cell_type": "code",
   "execution_count": 2,
   "id": "c1c7851d",
   "metadata": {
    "execution": {
     "iopub.execute_input": "2024-04-04T12:25:40.214196Z",
     "iopub.status.busy": "2024-04-04T12:25:40.213598Z",
     "iopub.status.idle": "2024-04-04T12:25:40.935202Z",
     "shell.execute_reply": "2024-04-04T12:25:40.934281Z"
    },
    "papermill": {
     "duration": 0.72995,
     "end_time": "2024-04-04T12:25:40.937835",
     "exception": false,
     "start_time": "2024-04-04T12:25:40.207885",
     "status": "completed"
    },
    "tags": []
   },
   "outputs": [],
   "source": [
    "import numpy as np\n",
    "import pandas as pd"
   ]
  },
  {
   "cell_type": "code",
   "execution_count": 3,
   "id": "1db0e340",
   "metadata": {
    "execution": {
     "iopub.execute_input": "2024-04-04T12:25:40.948136Z",
     "iopub.status.busy": "2024-04-04T12:25:40.947222Z",
     "iopub.status.idle": "2024-04-04T12:25:41.034722Z",
     "shell.execute_reply": "2024-04-04T12:25:41.033698Z"
    },
    "papermill": {
     "duration": 0.094861,
     "end_time": "2024-04-04T12:25:41.037172",
     "exception": false,
     "start_time": "2024-04-04T12:25:40.942311",
     "status": "completed"
    },
    "tags": []
   },
   "outputs": [],
   "source": [
    "train_data = pd.read_csv(\"/kaggle/input/ml-olympiad-toxic-language-ptbr-detection/train (2).csv\")"
   ]
  },
  {
   "cell_type": "code",
   "execution_count": 4,
   "id": "edcb49b7",
   "metadata": {
    "execution": {
     "iopub.execute_input": "2024-04-04T12:25:41.046870Z",
     "iopub.status.busy": "2024-04-04T12:25:41.046572Z",
     "iopub.status.idle": "2024-04-04T12:25:41.070336Z",
     "shell.execute_reply": "2024-04-04T12:25:41.069247Z"
    },
    "papermill": {
     "duration": 0.030672,
     "end_time": "2024-04-04T12:25:41.072220",
     "exception": false,
     "start_time": "2024-04-04T12:25:41.041548",
     "status": "completed"
    },
    "tags": []
   },
   "outputs": [
    {
     "name": "stdout",
     "output_type": "stream",
     "text": [
      "<class 'pandas.core.frame.DataFrame'>\n",
      "RangeIndex: 16800 entries, 0 to 16799\n",
      "Data columns (total 2 columns):\n",
      " #   Column  Non-Null Count  Dtype \n",
      "---  ------  --------------  ----- \n",
      " 0   text    16800 non-null  object\n",
      " 1   label   16800 non-null  int64 \n",
      "dtypes: int64(1), object(1)\n",
      "memory usage: 262.6+ KB\n"
     ]
    }
   ],
   "source": [
    "train_data.info()"
   ]
  },
  {
   "cell_type": "code",
   "execution_count": 5,
   "id": "369850a1",
   "metadata": {
    "execution": {
     "iopub.execute_input": "2024-04-04T12:25:41.081709Z",
     "iopub.status.busy": "2024-04-04T12:25:41.081442Z",
     "iopub.status.idle": "2024-04-04T12:25:41.093849Z",
     "shell.execute_reply": "2024-04-04T12:25:41.092973Z"
    },
    "papermill": {
     "duration": 0.019583,
     "end_time": "2024-04-04T12:25:41.095993",
     "exception": false,
     "start_time": "2024-04-04T12:25:41.076410",
     "status": "completed"
    },
    "tags": []
   },
   "outputs": [
    {
     "data": {
      "text/html": [
       "<div>\n",
       "<style scoped>\n",
       "    .dataframe tbody tr th:only-of-type {\n",
       "        vertical-align: middle;\n",
       "    }\n",
       "\n",
       "    .dataframe tbody tr th {\n",
       "        vertical-align: top;\n",
       "    }\n",
       "\n",
       "    .dataframe thead th {\n",
       "        text-align: right;\n",
       "    }\n",
       "</style>\n",
       "<table border=\"1\" class=\"dataframe\">\n",
       "  <thead>\n",
       "    <tr style=\"text-align: right;\">\n",
       "      <th></th>\n",
       "      <th>text</th>\n",
       "      <th>label</th>\n",
       "    </tr>\n",
       "  </thead>\n",
       "  <tbody>\n",
       "    <tr>\n",
       "      <th>0</th>\n",
       "      <td>rt @user olha quem chegouuuuu, nossos queridin...</td>\n",
       "      <td>0</td>\n",
       "    </tr>\n",
       "    <tr>\n",
       "      <th>1</th>\n",
       "      <td>veio umas teorias muito loucas na minha cabeça...</td>\n",
       "      <td>1</td>\n",
       "    </tr>\n",
       "    <tr>\n",
       "      <th>2</th>\n",
       "      <td>@user @user 😂😂😂😂mais nao tinha falado ontem qu...</td>\n",
       "      <td>0</td>\n",
       "    </tr>\n",
       "    <tr>\n",
       "      <th>3</th>\n",
       "      <td>rt @user quer ser filha da puta logo comigo qu...</td>\n",
       "      <td>1</td>\n",
       "    </tr>\n",
       "    <tr>\n",
       "      <th>4</th>\n",
       "      <td>vai besta 😂😂😂😂 casquei com a ultima foto</td>\n",
       "      <td>1</td>\n",
       "    </tr>\n",
       "  </tbody>\n",
       "</table>\n",
       "</div>"
      ],
      "text/plain": [
       "                                                text  label\n",
       "0  rt @user olha quem chegouuuuu, nossos queridin...      0\n",
       "1  veio umas teorias muito loucas na minha cabeça...      1\n",
       "2  @user @user 😂😂😂😂mais nao tinha falado ontem qu...      0\n",
       "3  rt @user quer ser filha da puta logo comigo qu...      1\n",
       "4           vai besta 😂😂😂😂 casquei com a ultima foto      1"
      ]
     },
     "execution_count": 5,
     "metadata": {},
     "output_type": "execute_result"
    }
   ],
   "source": [
    "train_data.head()"
   ]
  },
  {
   "cell_type": "code",
   "execution_count": 6,
   "id": "be1a59c9",
   "metadata": {
    "execution": {
     "iopub.execute_input": "2024-04-04T12:25:41.107026Z",
     "iopub.status.busy": "2024-04-04T12:25:41.106769Z",
     "iopub.status.idle": "2024-04-04T12:25:42.747698Z",
     "shell.execute_reply": "2024-04-04T12:25:42.746847Z"
    },
    "papermill": {
     "duration": 1.648852,
     "end_time": "2024-04-04T12:25:42.749953",
     "exception": false,
     "start_time": "2024-04-04T12:25:41.101101",
     "status": "completed"
    },
    "tags": []
   },
   "outputs": [],
   "source": [
    "import re\n",
    "import nltk\n",
    "from nltk.corpus import stopwords\n",
    "from nltk.tokenize import word_tokenize\n",
    "from nltk.stem import SnowballStemmer"
   ]
  },
  {
   "cell_type": "code",
   "execution_count": 7,
   "id": "ccf177a1",
   "metadata": {
    "execution": {
     "iopub.execute_input": "2024-04-04T12:25:42.760348Z",
     "iopub.status.busy": "2024-04-04T12:25:42.759953Z",
     "iopub.status.idle": "2024-04-04T12:25:56.755507Z",
     "shell.execute_reply": "2024-04-04T12:25:56.754636Z"
    },
    "papermill": {
     "duration": 14.003517,
     "end_time": "2024-04-04T12:25:56.758160",
     "exception": false,
     "start_time": "2024-04-04T12:25:42.754643",
     "status": "completed"
    },
    "tags": []
   },
   "outputs": [],
   "source": [
    "def clean_text(text):\n",
    "    # Remove non-alphanumeric characters including emojis\n",
    "    text = re.sub('[^A-Za-zÀ-ÖØ-öø-ÿ]', ' ', text)\n",
    "    # Convert to lowercase\n",
    "    text = text.lower()\n",
    "    # Tokenize the text\n",
    "    tokens = word_tokenize(text, language='portuguese')\n",
    "    # Remove stopwords\n",
    "    stop_words = set(stopwords.words('portuguese'))\n",
    "    tokens = [word for word in tokens if word not in stop_words]\n",
    "    # Stemming\n",
    "    stemmer = SnowballStemmer('portuguese')\n",
    "    tokens = [stemmer.stem(word) for word in tokens]\n",
    "    return ' '.join(tokens)\n",
    "\n",
    "train_data['cleaned_text'] = train_data['text'].apply(clean_text)"
   ]
  },
  {
   "cell_type": "code",
   "execution_count": 8,
   "id": "f49b1843",
   "metadata": {
    "execution": {
     "iopub.execute_input": "2024-04-04T12:25:56.770500Z",
     "iopub.status.busy": "2024-04-04T12:25:56.770127Z",
     "iopub.status.idle": "2024-04-04T12:25:56.781042Z",
     "shell.execute_reply": "2024-04-04T12:25:56.780027Z"
    },
    "papermill": {
     "duration": 0.02027,
     "end_time": "2024-04-04T12:25:56.784011",
     "exception": false,
     "start_time": "2024-04-04T12:25:56.763741",
     "status": "completed"
    },
    "tags": []
   },
   "outputs": [
    {
     "data": {
      "text/html": [
       "<div>\n",
       "<style scoped>\n",
       "    .dataframe tbody tr th:only-of-type {\n",
       "        vertical-align: middle;\n",
       "    }\n",
       "\n",
       "    .dataframe tbody tr th {\n",
       "        vertical-align: top;\n",
       "    }\n",
       "\n",
       "    .dataframe thead th {\n",
       "        text-align: right;\n",
       "    }\n",
       "</style>\n",
       "<table border=\"1\" class=\"dataframe\">\n",
       "  <thead>\n",
       "    <tr style=\"text-align: right;\">\n",
       "      <th></th>\n",
       "      <th>text</th>\n",
       "      <th>label</th>\n",
       "      <th>cleaned_text</th>\n",
       "    </tr>\n",
       "  </thead>\n",
       "  <tbody>\n",
       "    <tr>\n",
       "      <th>0</th>\n",
       "      <td>rt @user olha quem chegouuuuu, nossos queridin...</td>\n",
       "      <td>0</td>\n",
       "      <td>rt user olha chegouuuuu queridinh vem direçã f...</td>\n",
       "    </tr>\n",
       "    <tr>\n",
       "      <th>1</th>\n",
       "      <td>veio umas teorias muito loucas na minha cabeça...</td>\n",
       "      <td>1</td>\n",
       "      <td>vei umas teor louc cabec agor pqp to assust</td>\n",
       "    </tr>\n",
       "    <tr>\n",
       "      <th>2</th>\n",
       "      <td>@user @user 😂😂😂😂mais nao tinha falado ontem qu...</td>\n",
       "      <td>0</td>\n",
       "      <td>user user nao fal ontem ia patrocin nad pud vi...</td>\n",
       "    </tr>\n",
       "    <tr>\n",
       "      <th>3</th>\n",
       "      <td>rt @user quer ser filha da puta logo comigo qu...</td>\n",
       "      <td>1</td>\n",
       "      <td>rt user quer filh put log comig x pior kkkkkkk...</td>\n",
       "    </tr>\n",
       "    <tr>\n",
       "      <th>4</th>\n",
       "      <td>vai besta 😂😂😂😂 casquei com a ultima foto</td>\n",
       "      <td>1</td>\n",
       "      <td>vai best casqu ultim fot</td>\n",
       "    </tr>\n",
       "  </tbody>\n",
       "</table>\n",
       "</div>"
      ],
      "text/plain": [
       "                                                text  label  \\\n",
       "0  rt @user olha quem chegouuuuu, nossos queridin...      0   \n",
       "1  veio umas teorias muito loucas na minha cabeça...      1   \n",
       "2  @user @user 😂😂😂😂mais nao tinha falado ontem qu...      0   \n",
       "3  rt @user quer ser filha da puta logo comigo qu...      1   \n",
       "4           vai besta 😂😂😂😂 casquei com a ultima foto      1   \n",
       "\n",
       "                                        cleaned_text  \n",
       "0  rt user olha chegouuuuu queridinh vem direçã f...  \n",
       "1        vei umas teor louc cabec agor pqp to assust  \n",
       "2  user user nao fal ontem ia patrocin nad pud vi...  \n",
       "3  rt user quer filh put log comig x pior kkkkkkk...  \n",
       "4                           vai best casqu ultim fot  "
      ]
     },
     "execution_count": 8,
     "metadata": {},
     "output_type": "execute_result"
    }
   ],
   "source": [
    "train_data.head()"
   ]
  },
  {
   "cell_type": "code",
   "execution_count": 9,
   "id": "fe06a0bd",
   "metadata": {
    "execution": {
     "iopub.execute_input": "2024-04-04T12:25:56.796894Z",
     "iopub.status.busy": "2024-04-04T12:25:56.796252Z",
     "iopub.status.idle": "2024-04-04T12:25:56.805854Z",
     "shell.execute_reply": "2024-04-04T12:25:56.804800Z"
    },
    "papermill": {
     "duration": 0.018443,
     "end_time": "2024-04-04T12:25:56.808273",
     "exception": false,
     "start_time": "2024-04-04T12:25:56.789830",
     "status": "completed"
    },
    "tags": []
   },
   "outputs": [],
   "source": [
    "from sklearn.model_selection import train_test_split\n",
    "\n",
    "X_train, X_test, y_train, y_test = train_test_split(train_data['cleaned_text'], train_data['label'], test_size=0.2, random_state=42)"
   ]
  },
  {
   "cell_type": "code",
   "execution_count": 10,
   "id": "58474b04",
   "metadata": {
    "execution": {
     "iopub.execute_input": "2024-04-04T12:25:56.821048Z",
     "iopub.status.busy": "2024-04-04T12:25:56.820750Z",
     "iopub.status.idle": "2024-04-04T12:25:57.144188Z",
     "shell.execute_reply": "2024-04-04T12:25:57.143383Z"
    },
    "papermill": {
     "duration": 0.332325,
     "end_time": "2024-04-04T12:25:57.146593",
     "exception": false,
     "start_time": "2024-04-04T12:25:56.814268",
     "status": "completed"
    },
    "tags": []
   },
   "outputs": [],
   "source": [
    "from sklearn.feature_extraction.text import TfidfVectorizer\n",
    "\n",
    "tfidf_vectorizer = TfidfVectorizer(max_features=500)\n",
    "X_train_tfidf = tfidf_vectorizer.fit_transform(X_train)\n",
    "X_test_tfidf = tfidf_vectorizer.transform(X_test)"
   ]
  },
  {
   "cell_type": "code",
   "execution_count": 11,
   "id": "e2965cfa",
   "metadata": {
    "execution": {
     "iopub.execute_input": "2024-04-04T12:25:57.157783Z",
     "iopub.status.busy": "2024-04-04T12:25:57.157495Z",
     "iopub.status.idle": "2024-04-04T12:25:57.422310Z",
     "shell.execute_reply": "2024-04-04T12:25:57.421579Z"
    },
    "papermill": {
     "duration": 0.272613,
     "end_time": "2024-04-04T12:25:57.424533",
     "exception": false,
     "start_time": "2024-04-04T12:25:57.151920",
     "status": "completed"
    },
    "tags": []
   },
   "outputs": [],
   "source": [
    "from sklearn.linear_model import LogisticRegression\n",
    "from sklearn.ensemble import RandomForestClassifier\n",
    "from sklearn.svm import SVC\n",
    "from xgboost import XGBClassifier\n",
    "from sklearn.metrics import accuracy_score, classification_report"
   ]
  },
  {
   "cell_type": "code",
   "execution_count": 12,
   "id": "025e9bca",
   "metadata": {
    "execution": {
     "iopub.execute_input": "2024-04-04T12:25:57.435336Z",
     "iopub.status.busy": "2024-04-04T12:25:57.435058Z",
     "iopub.status.idle": "2024-04-04T12:26:28.505085Z",
     "shell.execute_reply": "2024-04-04T12:26:28.504178Z"
    },
    "papermill": {
     "duration": 31.083039,
     "end_time": "2024-04-04T12:26:28.512548",
     "exception": false,
     "start_time": "2024-04-04T12:25:57.429509",
     "status": "completed"
    },
    "tags": []
   },
   "outputs": [
    {
     "name": "stdout",
     "output_type": "stream",
     "text": [
      "Training Logistic Regression\n",
      "Accuracy: 0.7380952380952381\n",
      "Classification Report:\n",
      "              precision    recall  f1-score   support\n",
      "\n",
      "           0       0.73      0.84      0.78      1881\n",
      "           1       0.75      0.61      0.67      1479\n",
      "\n",
      "    accuracy                           0.74      3360\n",
      "   macro avg       0.74      0.72      0.73      3360\n",
      "weighted avg       0.74      0.74      0.73      3360\n",
      "\n",
      "--------------------------------------------------\n",
      "Training Random Forest\n",
      "Accuracy: 0.7357142857142858\n",
      "Classification Report:\n",
      "              precision    recall  f1-score   support\n",
      "\n",
      "           0       0.75      0.79      0.77      1881\n",
      "           1       0.71      0.67      0.69      1479\n",
      "\n",
      "    accuracy                           0.74      3360\n",
      "   macro avg       0.73      0.73      0.73      3360\n",
      "weighted avg       0.73      0.74      0.73      3360\n",
      "\n",
      "--------------------------------------------------\n",
      "Training Support Vector Machine\n",
      "Accuracy: 0.7446428571428572\n",
      "Classification Report:\n",
      "              precision    recall  f1-score   support\n",
      "\n",
      "           0       0.75      0.83      0.78      1881\n",
      "           1       0.74      0.64      0.69      1479\n",
      "\n",
      "    accuracy                           0.74      3360\n",
      "   macro avg       0.74      0.73      0.74      3360\n",
      "weighted avg       0.74      0.74      0.74      3360\n",
      "\n",
      "--------------------------------------------------\n",
      "Training XGBoost\n",
      "Accuracy: 0.7419642857142857\n",
      "Classification Report:\n",
      "              precision    recall  f1-score   support\n",
      "\n",
      "           0       0.75      0.82      0.78      1881\n",
      "           1       0.74      0.65      0.69      1479\n",
      "\n",
      "    accuracy                           0.74      3360\n",
      "   macro avg       0.74      0.73      0.73      3360\n",
      "weighted avg       0.74      0.74      0.74      3360\n",
      "\n",
      "--------------------------------------------------\n"
     ]
    }
   ],
   "source": [
    "def train_and_evaluate(X_train, X_test, y_train, y_test):\n",
    "    algorithms = {\n",
    "        \"Logistic Regression\": LogisticRegression(),\n",
    "        \"Random Forest\": RandomForestClassifier(),\n",
    "        \"Support Vector Machine\": SVC(),\n",
    "        \"XGBoost\": XGBClassifier()\n",
    "    }\n",
    "\n",
    "    for name, model in algorithms.items():\n",
    "        print(\"Training\", name)\n",
    "        model.fit(X_train, y_train)\n",
    "        predictions = model.predict(X_test)\n",
    "        accuracy = accuracy_score(y_test, predictions)\n",
    "        report = classification_report(y_test, predictions)\n",
    "        print(\"Accuracy:\", accuracy)\n",
    "        print(\"Classification Report:\")\n",
    "        print(report)\n",
    "        print(\"-\" * 50)\n",
    "\n",
    "train_and_evaluate(X_train_tfidf, X_test_tfidf, y_train, y_test)"
   ]
  },
  {
   "cell_type": "code",
   "execution_count": 13,
   "id": "0053e1f9",
   "metadata": {
    "execution": {
     "iopub.execute_input": "2024-04-04T12:26:28.525727Z",
     "iopub.status.busy": "2024-04-04T12:26:28.524984Z",
     "iopub.status.idle": "2024-04-04T13:28:56.922650Z",
     "shell.execute_reply": "2024-04-04T13:28:56.921421Z"
    },
    "papermill": {
     "duration": 3748.412799,
     "end_time": "2024-04-04T13:28:56.931131",
     "exception": false,
     "start_time": "2024-04-04T12:26:28.518332",
     "status": "completed"
    },
    "tags": []
   },
   "outputs": [
    {
     "name": "stdout",
     "output_type": "stream",
     "text": [
      "Best hyperparameters found:  OrderedDict([('colsample_bytree', 1.0), ('gamma', 0.0), ('learning_rate', 1.0), ('max_depth', 1), ('min_child_weight', 0), ('n_estimators', 50), ('subsample', 1.0)])\n",
      "Accuracy: 0.7425595238095238\n",
      "Classification Report:\n",
      "              precision    recall  f1-score   support\n",
      "\n",
      "           0       0.75      0.81      0.78      1881\n",
      "           1       0.73      0.66      0.69      1479\n",
      "\n",
      "    accuracy                           0.74      3360\n",
      "   macro avg       0.74      0.73      0.74      3360\n",
      "weighted avg       0.74      0.74      0.74      3360\n",
      "\n"
     ]
    }
   ],
   "source": [
    "from sklearn.model_selection import cross_val_score\n",
    "from skopt import BayesSearchCV\n",
    "\n",
    "params = {\n",
    "    'learning_rate': (0.01, 1.0, 'log-uniform'),\n",
    "    'min_child_weight': (0, 10),\n",
    "    'max_depth': (1, 50),\n",
    "    'gamma': (0.0, 1.0, 'uniform'),\n",
    "    'subsample': (0.1, 1.0, 'uniform'),\n",
    "    'colsample_bytree': (0.1, 1.0, 'uniform'),\n",
    "    'n_estimators': (50, 200),\n",
    "}\n",
    "\n",
    "xgb = XGBClassifier()\n",
    "\n",
    "opt = BayesSearchCV(xgb, params, n_iter=50, cv=3, scoring='accuracy', n_jobs=-1)\n",
    "\n",
    "opt.fit(X_train_tfidf, y_train)\n",
    "\n",
    "print(\"Best hyperparameters found: \", opt.best_params_)\n",
    "\n",
    "best_model = opt.best_estimator_\n",
    "best_model.fit(X_train_tfidf, y_train)\n",
    "predictions = best_model.predict(X_test_tfidf)\n",
    "accuracy = accuracy_score(y_test, predictions)\n",
    "report = classification_report(y_test, predictions)\n",
    "print(\"Accuracy:\", accuracy)\n",
    "print(\"Classification Report:\")\n",
    "print(report)\n"
   ]
  }
 ],
 "metadata": {
  "kaggle": {
   "accelerator": "nvidiaTeslaT4",
   "dataSources": [
    {
     "databundleVersionId": 7798918,
     "sourceId": 71348,
     "sourceType": "competition"
    }
   ],
   "dockerImageVersionId": 30674,
   "isGpuEnabled": true,
   "isInternetEnabled": true,
   "language": "python",
   "sourceType": "notebook"
  },
  "kernelspec": {
   "display_name": "Python 3",
   "language": "python",
   "name": "python3"
  },
  "language_info": {
   "codemirror_mode": {
    "name": "ipython",
    "version": 3
   },
   "file_extension": ".py",
   "mimetype": "text/x-python",
   "name": "python",
   "nbconvert_exporter": "python",
   "pygments_lexer": "ipython3",
   "version": "3.10.13"
  },
  "papermill": {
   "default_parameters": {},
   "duration": 3802.123823,
   "end_time": "2024-04-04T13:28:59.566642",
   "environment_variables": {},
   "exception": null,
   "input_path": "__notebook__.ipynb",
   "output_path": "__notebook__.ipynb",
   "parameters": {},
   "start_time": "2024-04-04T12:25:37.442819",
   "version": "2.5.0"
  }
 },
 "nbformat": 4,
 "nbformat_minor": 5
}
